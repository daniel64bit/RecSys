{
 "cells": [
  {
   "cell_type": "markdown",
   "metadata": {},
   "source": [
    "# Ambiente"
   ]
  },
  {
   "cell_type": "code",
   "execution_count": 47,
   "metadata": {},
   "outputs": [],
   "source": [
    "import pandas as pd\n",
    "import numpy as np\n",
    "import seaborn as sns\n",
    "import matplotlib.pyplot as plt\n",
    "\n",
    "from warnings import simplefilter\n",
    "simplefilter(action=\"ignore\", category=pd.errors.PerformanceWarning)"
   ]
  },
  {
   "cell_type": "code",
   "execution_count": 48,
   "metadata": {},
   "outputs": [],
   "source": [
    "pd.options.display.max_columns = 200\n",
    "pd.options.display.max_rows = 100"
   ]
  },
  {
   "cell_type": "markdown",
   "metadata": {},
   "source": [
    "# Dados"
   ]
  },
  {
   "cell_type": "code",
   "execution_count": 49,
   "metadata": {},
   "outputs": [],
   "source": [
    "# df_steam_user = pd.read_csv(\n",
    "#     '../../data/raw/steam-200k.csv',\n",
    "#     sep=',',\n",
    "#     header=None,\n",
    "#     names=['USER_ID', 'GAME_TITLE', 'BEHAVIOR_NAME', 'VALUE', '0']\n",
    "# )\n",
    "\n",
    "df_steam_games_raw = pd.read_csv(\n",
    "    '../../data/raw/games.csv',\n",
    "    usecols=['Name', 'Release date', 'Required age', 'Price', 'Windows', 'Genres', 'Tags', 'Positive', 'Negative']\n",
    ")"
   ]
  },
  {
   "cell_type": "markdown",
   "metadata": {},
   "source": [
    "# Funções"
   ]
  },
  {
   "cell_type": "code",
   "execution_count": 50,
   "metadata": {},
   "outputs": [],
   "source": [
    "def cria_identificadores_genero(df:pd.DataFrame, col:str, sep:str = ',') -> pd.DataFrame:\n",
    "    \"\"\"\n",
    "    Função que cria identificadores de marcadores\n",
    "    para jogos a partir de colunas contendo strings separadas por um delimitador comum.\n",
    "    \"\"\"\n",
    "    df = df.copy()\n",
    "\n",
    "    generos = np.unique(\n",
    "        df[col]\n",
    "        .drop_duplicates()\n",
    "        .str.cat(sep=sep)\n",
    "        .split(sep)\n",
    "    )\n",
    "\n",
    "    for genero in generos:\n",
    "        df[f'{genero}'.upper().replace(' ','_')] = (\n",
    "            df[col].str.contains(genero, regex=True)\n",
    "        )\n",
    "\n",
    "    return df"
   ]
  },
  {
   "cell_type": "code",
   "execution_count": 51,
   "metadata": {},
   "outputs": [],
   "source": [
    "def remove_outlier(df:pd.DataFrame, col:str) -> pd.DataFrame:\n",
    "    \"\"\"\n",
    "    Função que remove outliers de um DataFrame baseado no método IQR\n",
    "    \"\"\"\n",
    "    df = df.copy()\n",
    "\n",
    "    q1 = df[col].quantile(0.25)\n",
    "    q3 = df[col].quantile(0.75)\n",
    "    iqr = q3 - q1\n",
    "\n",
    "    df = df[\n",
    "        (df[col] >= q1 - 1.5 * iqr)\n",
    "        & (df[col] <= q3 + 1.5 * iqr)\n",
    "    ].copy()\n",
    "\n",
    "    return df"
   ]
  },
  {
   "cell_type": "code",
   "execution_count": 52,
   "metadata": {},
   "outputs": [],
   "source": [
    "def preprocessa_steam_games(df_steam_games: pd.DataFrame) -> pd.DataFrame:\n",
    "    \"\"\"\n",
    "    Função que realiza o pré-processamento do dataset de jogos da Steam\n",
    "    \"\"\"\n",
    "\n",
    "    # Plataforma\n",
    "    df_steam_games = df_steam_games[df_steam_games['Windows'] == True].copy()\n",
    "    \n",
    "    # Novas Features\n",
    "    df_steam_games['PriceRange'] = pd.cut(df_steam_games['Price'].round(0), bins=20)\n",
    "    df_steam_games['Over18'] = df_steam_games['Required age'] >= 18\n",
    "    df_steam_games['Year'] = df_steam_games['Release date'].str[-4:].astype(int)\n",
    "    \n",
    "    # NPS\n",
    "    df_steam_games['Reviews'] = df_steam_games['Positive'] + df_steam_games['Negative']\n",
    "    df_steam_games['NPS'] = (\n",
    "        (df_steam_games['Positive'] / df_steam_games['Reviews'])\n",
    "        - (df_steam_games['Negative'] / df_steam_games['Reviews'])\n",
    "    ).fillna(0)\n",
    "\n",
    "    # Ajuste para jogos com poucas reviews\n",
    "    df_steam_games['NPS'] = np.where(\n",
    "        df_steam_games['NPS'] == 1,\n",
    "        0,\n",
    "        df_steam_games['NPS']\n",
    "    )\n",
    "\n",
    "    # Dados duplicados\n",
    "    df_steam_games = (\n",
    "        df_steam_games\n",
    "        .sort_values('Reviews', ascending=False)\n",
    "        .drop_duplicates('Name', keep='first')\n",
    "    )\n",
    "\n",
    "    # Marcadores\n",
    "    df_steam_games['Tags'] = np.where(df_steam_games['Tags'].isna(), df_steam_games['Genres'], df_steam_games['Tags'])\n",
    "    df_steam_games = df_steam_games.dropna(subset=['Tags', 'Name'])\n",
    "    df_steam_games = cria_identificadores_genero(df_steam_games, 'Tags')\n",
    "\n",
    "    # Transforma booleano em numérico\n",
    "    bool_cols = df_steam_games.select_dtypes('bool').columns\n",
    "    df_steam_games[bool_cols] = df_steam_games[bool_cols].astype('int64')\n",
    "\n",
    "    df_steam_games = df_steam_games.drop(\n",
    "        ['Genres', 'Tags', 'Required age', 'Windows', 'Price', 'Reviews',\n",
    "         'Release date', 'Positive', 'Negative'], axis=1)\n",
    "    return df_steam_games"
   ]
  },
  {
   "cell_type": "markdown",
   "metadata": {},
   "source": [
    "# Preprocessamento"
   ]
  },
  {
   "cell_type": "markdown",
   "metadata": {},
   "source": [
    "## Steam Games"
   ]
  },
  {
   "cell_type": "code",
   "execution_count": 53,
   "metadata": {},
   "outputs": [
    {
     "name": "stderr",
     "output_type": "stream",
     "text": [
      "C:\\Users\\nielr\\AppData\\Local\\Temp\\ipykernel_14052\\1013033515.py:16: UserWarning: This pattern is interpreted as a regular expression, and has match groups. To actually get the groups, use str.extract.\n",
      "  df[col].str.contains(genero, regex=True)\n",
      "C:\\Users\\nielr\\AppData\\Local\\Temp\\ipykernel_14052\\1013033515.py:16: UserWarning: This pattern is interpreted as a regular expression, and has match groups. To actually get the groups, use str.extract.\n",
      "  df[col].str.contains(genero, regex=True)\n"
     ]
    }
   ],
   "source": [
    "df = preprocessa_steam_games(df_steam_games_raw)"
   ]
  },
  {
   "cell_type": "code",
   "execution_count": 149,
   "metadata": {},
   "outputs": [],
   "source": [
    "registros_categoria = df.drop(['Name', 'PriceRange', 'Over18', 'Year', 'NPS'], axis=1).sum()\n",
    "top_categorias = registros_categoria[registros_categoria > 6000].sort_values(ascending=False).index.to_list()"
   ]
  },
  {
   "cell_type": "code",
   "execution_count": 150,
   "metadata": {},
   "outputs": [
    {
     "data": {
      "text/plain": [
       "33"
      ]
     },
     "execution_count": 150,
     "metadata": {},
     "output_type": "execute_result"
    }
   ],
   "source": [
    "len(top_categorias)"
   ]
  },
  {
   "cell_type": "code",
   "execution_count": 151,
   "metadata": {},
   "outputs": [],
   "source": [
    "df_games = df[['Name', 'NPS'] + top_categorias].reset_index(drop=True)"
   ]
  },
  {
   "cell_type": "markdown",
   "metadata": {},
   "source": [
    "## Steam Users\n",
    "\n",
    "- Tentativa de usar as horas jogadas para ordenar recomendações\n",
    "- A base de dados não possui todos os jogos necessários para tal"
   ]
  },
  {
   "cell_type": "code",
   "execution_count": 152,
   "metadata": {},
   "outputs": [],
   "source": [
    "# df_steam_user = df_steam_user[df_steam_user['BEHAVIOR_NAME'] == 'play']\n",
    "# df_steam_user = remove_outlier(df_steam_user, 'VALUE')\n",
    "\n",
    "# df_playtime = df_steam_user.groupby('GAME_TITLE', as_index=False)['VALUE'].mean()\n",
    "# df_playtime = df_playtime.rename(columns={'GAME_TITLE': 'Name', 'VALUE': 'Playtime'})"
   ]
  },
  {
   "cell_type": "markdown",
   "metadata": {},
   "source": [
    "# Avaliando Similaridade"
   ]
  },
  {
   "cell_type": "markdown",
   "metadata": {},
   "source": [
    "## KNN + Distância por cossenos"
   ]
  },
  {
   "cell_type": "code",
   "execution_count": 153,
   "metadata": {},
   "outputs": [],
   "source": [
    "from sklearn.neighbors import NearestNeighbors"
   ]
  },
  {
   "cell_type": "code",
   "execution_count": 154,
   "metadata": {},
   "outputs": [],
   "source": [
    "neigh = NearestNeighbors(n_neighbors=11, metric='cosine')\n",
    "neigh.fit(df_games.drop(['Name', 'NPS'], axis=1));"
   ]
  },
  {
   "cell_type": "code",
   "execution_count": 166,
   "metadata": {},
   "outputs": [],
   "source": [
    "# df_games[df_games['Name'].str.contains('Battlegr')]"
   ]
  },
  {
   "cell_type": "code",
   "execution_count": 157,
   "metadata": {},
   "outputs": [],
   "source": [
    "lista_jogos = ['Realm Royale', 'Paladins®', 'Overcooked', 'Among Us', 'Counter-Strike: Source', 'Hollow Knight']\n",
    "jogo_avaliado = 'Hollow Knight'\n",
    "\n",
    "jogo = df_games[df_games['Name'] == jogo_avaliado].drop(['Name', 'NPS'], axis=1)\n",
    "\n",
    "neighbors = neigh.kneighbors(jogo)\n",
    "similaridade = neighbors[0][0]\n",
    "index = neighbors[1][0]\n",
    "\n",
    "df_similaridade = pd.DataFrame({\n",
    "    'Name': df_games.iloc[index]['Name'],\n",
    "    'Similarity': 1 - similaridade\n",
    "})\n",
    "\n",
    "df_similaridade = df_similaridade[df_similaridade['Name'] != jogo_avaliado]"
   ]
  },
  {
   "cell_type": "code",
   "execution_count": 158,
   "metadata": {},
   "outputs": [
    {
     "data": {
      "text/html": [
       "<div>\n",
       "<style scoped>\n",
       "    .dataframe tbody tr th:only-of-type {\n",
       "        vertical-align: middle;\n",
       "    }\n",
       "\n",
       "    .dataframe tbody tr th {\n",
       "        vertical-align: top;\n",
       "    }\n",
       "\n",
       "    .dataframe thead th {\n",
       "        text-align: right;\n",
       "    }\n",
       "</style>\n",
       "<table border=\"1\" class=\"dataframe\">\n",
       "  <thead>\n",
       "    <tr style=\"text-align: right;\">\n",
       "      <th></th>\n",
       "      <th>Name</th>\n",
       "      <th>Similarity</th>\n",
       "      <th>NPS</th>\n",
       "    </tr>\n",
       "  </thead>\n",
       "  <tbody>\n",
       "    <tr>\n",
       "      <th>4</th>\n",
       "      <td>Ori and the Will of the Wisps</td>\n",
       "      <td>0.916667</td>\n",
       "      <td>0.964767</td>\n",
       "    </tr>\n",
       "    <tr>\n",
       "      <th>2</th>\n",
       "      <td>NO Logic</td>\n",
       "      <td>0.925820</td>\n",
       "      <td>0.952381</td>\n",
       "    </tr>\n",
       "    <tr>\n",
       "      <th>3</th>\n",
       "      <td>WarriOrb: Prologue</td>\n",
       "      <td>0.925820</td>\n",
       "      <td>0.887139</td>\n",
       "    </tr>\n",
       "    <tr>\n",
       "      <th>0</th>\n",
       "      <td>Unbound: Worlds Apart</td>\n",
       "      <td>1.000000</td>\n",
       "      <td>0.886256</td>\n",
       "    </tr>\n",
       "    <tr>\n",
       "      <th>1</th>\n",
       "      <td>WarriOrb</td>\n",
       "      <td>0.960769</td>\n",
       "      <td>0.824324</td>\n",
       "    </tr>\n",
       "    <tr>\n",
       "      <th>6</th>\n",
       "      <td>Tartapolis</td>\n",
       "      <td>0.912871</td>\n",
       "      <td>0.823529</td>\n",
       "    </tr>\n",
       "    <tr>\n",
       "      <th>8</th>\n",
       "      <td>Timothy and the Tower of Mu</td>\n",
       "      <td>0.880705</td>\n",
       "      <td>0.714286</td>\n",
       "    </tr>\n",
       "    <tr>\n",
       "      <th>7</th>\n",
       "      <td>Cantirium: God Slayer</td>\n",
       "      <td>0.894427</td>\n",
       "      <td>0.600000</td>\n",
       "    </tr>\n",
       "    <tr>\n",
       "      <th>9</th>\n",
       "      <td>Lightform</td>\n",
       "      <td>0.880705</td>\n",
       "      <td>0.259259</td>\n",
       "    </tr>\n",
       "    <tr>\n",
       "      <th>5</th>\n",
       "      <td>Mage</td>\n",
       "      <td>0.916667</td>\n",
       "      <td>0.000000</td>\n",
       "    </tr>\n",
       "  </tbody>\n",
       "</table>\n",
       "</div>"
      ],
      "text/plain": [
       "                            Name  Similarity       NPS\n",
       "4  Ori and the Will of the Wisps    0.916667  0.964767\n",
       "2                       NO Logic    0.925820  0.952381\n",
       "3             WarriOrb: Prologue    0.925820  0.887139\n",
       "0          Unbound: Worlds Apart    1.000000  0.886256\n",
       "1                       WarriOrb    0.960769  0.824324\n",
       "6                     Tartapolis    0.912871  0.823529\n",
       "8    Timothy and the Tower of Mu    0.880705  0.714286\n",
       "7          Cantirium: God Slayer    0.894427  0.600000\n",
       "9                      Lightform    0.880705  0.259259\n",
       "5                           Mage    0.916667  0.000000"
      ]
     },
     "execution_count": 158,
     "metadata": {},
     "output_type": "execute_result"
    }
   ],
   "source": [
    "df_similaridade.merge(df_games[['Name', 'NPS']], on='Name').sort_values('NPS', ascending=False)"
   ]
  },
  {
   "cell_type": "code",
   "execution_count": 173,
   "metadata": {},
   "outputs": [
    {
     "data": {
      "text/html": [
       "<div>\n",
       "<style scoped>\n",
       "    .dataframe tbody tr th:only-of-type {\n",
       "        vertical-align: middle;\n",
       "    }\n",
       "\n",
       "    .dataframe tbody tr th {\n",
       "        vertical-align: top;\n",
       "    }\n",
       "\n",
       "    .dataframe thead th {\n",
       "        text-align: right;\n",
       "    }\n",
       "</style>\n",
       "<table border=\"1\" class=\"dataframe\">\n",
       "  <thead>\n",
       "    <tr style=\"text-align: right;\">\n",
       "      <th></th>\n",
       "      <th>Name</th>\n",
       "      <th>Release date</th>\n",
       "      <th>Required age</th>\n",
       "      <th>Price</th>\n",
       "      <th>Windows</th>\n",
       "      <th>Positive</th>\n",
       "      <th>Negative</th>\n",
       "      <th>Genres</th>\n",
       "      <th>Tags</th>\n",
       "    </tr>\n",
       "  </thead>\n",
       "  <tbody>\n",
       "    <tr>\n",
       "      <th>2904</th>\n",
       "      <td>Tom Clancy's Rainbow Six® Siege</td>\n",
       "      <td>Dec 1, 2015</td>\n",
       "      <td>17</td>\n",
       "      <td>19.99</td>\n",
       "      <td>True</td>\n",
       "      <td>312232</td>\n",
       "      <td>64137</td>\n",
       "      <td>Action</td>\n",
       "      <td>FPS,Multiplayer,Tactical,Shooter,Team-Based,Ac...</td>\n",
       "    </tr>\n",
       "    <tr>\n",
       "      <th>4287</th>\n",
       "      <td>Tom Clancy's Rainbow Six® Siege</td>\n",
       "      <td>Dec 1, 2015</td>\n",
       "      <td>17</td>\n",
       "      <td>19.99</td>\n",
       "      <td>True</td>\n",
       "      <td>312816</td>\n",
       "      <td>64201</td>\n",
       "      <td>Action</td>\n",
       "      <td>FPS,Multiplayer,Tactical,Shooter,Team-Based,Ac...</td>\n",
       "    </tr>\n",
       "    <tr>\n",
       "      <th>8256</th>\n",
       "      <td>Tom Clancy's Rainbow Six® Siege</td>\n",
       "      <td>Dec 1, 2015</td>\n",
       "      <td>17</td>\n",
       "      <td>19.99</td>\n",
       "      <td>True</td>\n",
       "      <td>929372</td>\n",
       "      <td>138530</td>\n",
       "      <td>Action</td>\n",
       "      <td>FPS,Hero Shooter,Multiplayer,Tactical,Shooter,...</td>\n",
       "    </tr>\n",
       "    <tr>\n",
       "      <th>21190</th>\n",
       "      <td>Tom Clancy's Rainbow Six® Siege</td>\n",
       "      <td>Dec 1, 2015</td>\n",
       "      <td>17</td>\n",
       "      <td>19.99</td>\n",
       "      <td>True</td>\n",
       "      <td>312719</td>\n",
       "      <td>64188</td>\n",
       "      <td>Action</td>\n",
       "      <td>FPS,Multiplayer,Tactical,Shooter,Team-Based,Ac...</td>\n",
       "    </tr>\n",
       "    <tr>\n",
       "      <th>38967</th>\n",
       "      <td>Tom Clancy's Rainbow Six® Siege</td>\n",
       "      <td>Dec 1, 2015</td>\n",
       "      <td>17</td>\n",
       "      <td>19.99</td>\n",
       "      <td>True</td>\n",
       "      <td>312397</td>\n",
       "      <td>64151</td>\n",
       "      <td>Action</td>\n",
       "      <td>FPS,Multiplayer,Tactical,Shooter,Team-Based,Ac...</td>\n",
       "    </tr>\n",
       "  </tbody>\n",
       "</table>\n",
       "</div>"
      ],
      "text/plain": [
       "                                  Name Release date  Required age  Price  \\\n",
       "2904   Tom Clancy's Rainbow Six® Siege  Dec 1, 2015            17  19.99   \n",
       "4287   Tom Clancy's Rainbow Six® Siege  Dec 1, 2015            17  19.99   \n",
       "8256   Tom Clancy's Rainbow Six® Siege  Dec 1, 2015            17  19.99   \n",
       "21190  Tom Clancy's Rainbow Six® Siege  Dec 1, 2015            17  19.99   \n",
       "38967  Tom Clancy's Rainbow Six® Siege  Dec 1, 2015            17  19.99   \n",
       "\n",
       "       Windows  Positive  Negative  Genres  \\\n",
       "2904      True    312232     64137  Action   \n",
       "4287      True    312816     64201  Action   \n",
       "8256      True    929372    138530  Action   \n",
       "21190     True    312719     64188  Action   \n",
       "38967     True    312397     64151  Action   \n",
       "\n",
       "                                                    Tags  \n",
       "2904   FPS,Multiplayer,Tactical,Shooter,Team-Based,Ac...  \n",
       "4287   FPS,Multiplayer,Tactical,Shooter,Team-Based,Ac...  \n",
       "8256   FPS,Hero Shooter,Multiplayer,Tactical,Shooter,...  \n",
       "21190  FPS,Multiplayer,Tactical,Shooter,Team-Based,Ac...  \n",
       "38967  FPS,Multiplayer,Tactical,Shooter,Team-Based,Ac...  "
      ]
     },
     "execution_count": 173,
     "metadata": {},
     "output_type": "execute_result"
    }
   ],
   "source": [
    "df_steam_games_raw[df_steam_games_raw['Name'] == \"Tom Clancy's Rainbow Six® Siege\"]#.Tags.unique()"
   ]
  }
 ],
 "metadata": {
  "kernelspec": {
   "display_name": "mackenzie",
   "language": "python",
   "name": "python3"
  },
  "language_info": {
   "codemirror_mode": {
    "name": "ipython",
    "version": 3
   },
   "file_extension": ".py",
   "mimetype": "text/x-python",
   "name": "python",
   "nbconvert_exporter": "python",
   "pygments_lexer": "ipython3",
   "version": "3.10.12"
  }
 },
 "nbformat": 4,
 "nbformat_minor": 2
}
