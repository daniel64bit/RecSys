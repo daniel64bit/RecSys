{
 "cells": [
  {
   "cell_type": "markdown",
   "metadata": {},
   "source": [
    "# Ambiente"
   ]
  },
  {
   "cell_type": "code",
   "execution_count": 7,
   "metadata": {},
   "outputs": [],
   "source": [
    "import pandas as pd\n",
    "import numpy as np\n",
    "import seaborn as sns\n",
    "import matplotlib.pyplot as plt\n",
    "\n",
    "from warnings import simplefilter\n",
    "simplefilter(action=\"ignore\", category=pd.errors.PerformanceWarning)"
   ]
  },
  {
   "cell_type": "code",
   "execution_count": 8,
   "metadata": {},
   "outputs": [],
   "source": [
    "pd.options.display.max_columns = 200\n",
    "pd.options.display.max_rows = 100"
   ]
  },
  {
   "cell_type": "markdown",
   "metadata": {},
   "source": [
    "# Dados"
   ]
  },
  {
   "cell_type": "code",
   "execution_count": 9,
   "metadata": {},
   "outputs": [],
   "source": [
    "# df_steam_user = pd.read_csv(\n",
    "#     '../../data/raw/steam-200k.csv',\n",
    "#     sep=',',\n",
    "#     header=None,\n",
    "#     names=['USER_ID', 'GAME_TITLE', 'BEHAVIOR_NAME', 'VALUE', '0']\n",
    "# )\n",
    "\n",
    "df_steam_games_raw = pd.read_csv(\n",
    "    '../../data/raw/games.csv',\n",
    "    usecols=['Name', 'Release date', 'Required age', 'Price', 'Windows', 'Genres', 'Tags', 'Positive', 'Negative']\n",
    ")"
   ]
  },
  {
   "cell_type": "code",
   "execution_count": 10,
   "metadata": {},
   "outputs": [
    {
     "data": {
      "text/plain": [
       "'Indie,Casual,Sports,Bowling'"
      ]
     },
     "execution_count": 10,
     "metadata": {},
     "output_type": "execute_result"
    }
   ],
   "source": [
    "df_steam_games_raw.Tags[0]"
   ]
  },
  {
   "cell_type": "markdown",
   "metadata": {},
   "source": [
    "# Funções"
   ]
  },
  {
   "cell_type": "code",
   "execution_count": 11,
   "metadata": {},
   "outputs": [],
   "source": [
    "def cria_identificadores_genero(df:pd.DataFrame, col:str, sep:str = ',') -> pd.DataFrame:\n",
    "    \"\"\"\n",
    "    Função que cria identificadores de marcadores\n",
    "    para jogos a partir de colunas contendo strings separadas por um delimitador comum.\n",
    "    \"\"\"\n",
    "    df = df.copy()\n",
    "\n",
    "    generos = np.unique(\n",
    "        df[col]\n",
    "        .drop_duplicates()\n",
    "        .str.cat(sep=sep)\n",
    "        .split(sep)\n",
    "    )\n",
    "\n",
    "    for genero in generos:\n",
    "        df[f'{genero}'.upper().replace(' ','_')] = (\n",
    "            df[col].str.contains(genero, regex=True)\n",
    "        )\n",
    "\n",
    "    return df"
   ]
  },
  {
   "cell_type": "code",
   "execution_count": 12,
   "metadata": {},
   "outputs": [],
   "source": [
    "def remove_outlier(df:pd.DataFrame, col:str) -> pd.DataFrame:\n",
    "    \"\"\"\n",
    "    Função que remove outliers de um DataFrame baseado no método IQR\n",
    "    \"\"\"\n",
    "    df = df.copy()\n",
    "\n",
    "    q1 = df[col].quantile(0.25)\n",
    "    q3 = df[col].quantile(0.75)\n",
    "    iqr = q3 - q1\n",
    "\n",
    "    df = df[\n",
    "        (df[col] >= q1 - 1.5 * iqr)\n",
    "        & (df[col] <= q3 + 1.5 * iqr)\n",
    "    ].copy()\n",
    "\n",
    "    return df"
   ]
  },
  {
   "cell_type": "code",
   "execution_count": 13,
   "metadata": {},
   "outputs": [],
   "source": [
    "def preprocessa_steam_games(df_steam_games: pd.DataFrame) -> pd.DataFrame:\n",
    "    \"\"\"\n",
    "    Função que realiza o pré-processamento do dataset de jogos da Steam\n",
    "    \"\"\"\n",
    "\n",
    "    # Plataforma\n",
    "    df_steam_games = df_steam_games[df_steam_games['Windows'] == True].copy()\n",
    "    \n",
    "    # Novas Features\n",
    "    df_steam_games['PriceRange'] = pd.cut(df_steam_games['Price'].round(0), bins=20)\n",
    "    df_steam_games['Over18'] = df_steam_games['Required age'] >= 18\n",
    "    df_steam_games['Year'] = df_steam_games['Release date'].str[-4:].astype(int)\n",
    "    \n",
    "    # NPS\n",
    "    df_steam_games['Reviews'] = df_steam_games['Positive'] + df_steam_games['Negative']\n",
    "    df_steam_games['NPS'] = (\n",
    "        (df_steam_games['Positive'] / df_steam_games['Reviews'])\n",
    "        - (df_steam_games['Negative'] / df_steam_games['Reviews'])\n",
    "    ).fillna(0)\n",
    "\n",
    "    # Ajuste para jogos com poucas reviews\n",
    "    df_steam_games['NPS'] = np.where(\n",
    "        df_steam_games['NPS'] == 1,\n",
    "        0,\n",
    "        df_steam_games['NPS']\n",
    "    )\n",
    "\n",
    "    # Dados duplicados\n",
    "    df_steam_games = (\n",
    "        df_steam_games\n",
    "        .sort_values('Reviews', ascending=False)\n",
    "        .drop_duplicates('Name', keep='first')\n",
    "    )\n",
    "\n",
    "    # Marcadores\n",
    "    df_steam_games['Tags'] = np.where(df_steam_games['Tags'].isna(), df_steam_games['Genres'], df_steam_games['Tags'])\n",
    "    df_steam_games = df_steam_games.dropna(subset=['Tags', 'Name'])\n",
    "    df_steam_games = cria_identificadores_genero(df_steam_games, 'Tags')\n",
    "\n",
    "    # Transforma booleano em numérico\n",
    "    bool_cols = df_steam_games.select_dtypes('bool').columns\n",
    "    df_steam_games[bool_cols] = df_steam_games[bool_cols].astype('int64')\n",
    "\n",
    "    df_steam_games = df_steam_games.drop(\n",
    "        ['Genres', 'Tags', 'Required age', 'Windows', 'Price', 'Reviews',\n",
    "         'Release date', 'Positive', 'Negative'], axis=1)\n",
    "    return df_steam_games"
   ]
  },
  {
   "cell_type": "markdown",
   "metadata": {},
   "source": [
    "# Preprocessamento"
   ]
  },
  {
   "cell_type": "markdown",
   "metadata": {},
   "source": [
    "## Steam Games"
   ]
  },
  {
   "cell_type": "code",
   "execution_count": 14,
   "metadata": {},
   "outputs": [
    {
     "name": "stderr",
     "output_type": "stream",
     "text": [
      "C:\\Users\\nielr\\AppData\\Local\\Temp\\ipykernel_14696\\3209349948.py:17: UserWarning: This pattern is interpreted as a regular expression, and has match groups. To actually get the groups, use str.extract.\n",
      "  df[col].str.contains(genero, regex=True)\n",
      "C:\\Users\\nielr\\AppData\\Local\\Temp\\ipykernel_14696\\3209349948.py:17: UserWarning: This pattern is interpreted as a regular expression, and has match groups. To actually get the groups, use str.extract.\n",
      "  df[col].str.contains(genero, regex=True)\n"
     ]
    }
   ],
   "source": [
    "df = preprocessa_steam_games(df_steam_games_raw)"
   ]
  },
  {
   "cell_type": "code",
   "execution_count": 15,
   "metadata": {},
   "outputs": [],
   "source": [
    "registros_categoria = df.drop(['Name', 'PriceRange', 'Over18', 'Year', 'NPS'], axis=1).sum()\n",
    "top_categorias = registros_categoria[registros_categoria > 6000].sort_values(ascending=False).index.to_list()"
   ]
  },
  {
   "cell_type": "code",
   "execution_count": 16,
   "metadata": {},
   "outputs": [
    {
     "data": {
      "text/plain": [
       "32"
      ]
     },
     "execution_count": 16,
     "metadata": {},
     "output_type": "execute_result"
    }
   ],
   "source": [
    "len(top_categorias)"
   ]
  },
  {
   "cell_type": "code",
   "execution_count": 17,
   "metadata": {},
   "outputs": [],
   "source": [
    "df_games = df[['Name', 'NPS'] + top_categorias].reset_index(drop=True)"
   ]
  },
  {
   "cell_type": "markdown",
   "metadata": {},
   "source": [
    "## Steam Users\n",
    "\n",
    "- Tentativa de usar as horas jogadas para ordenar recomendações\n",
    "- A base de dados não possui todos os jogos necessários para tal"
   ]
  },
  {
   "cell_type": "code",
   "execution_count": 18,
   "metadata": {},
   "outputs": [],
   "source": [
    "# df_steam_user = df_steam_user[df_steam_user['BEHAVIOR_NAME'] == 'play']\n",
    "# df_steam_user = remove_outlier(df_steam_user, 'VALUE')\n",
    "\n",
    "# df_playtime = df_steam_user.groupby('GAME_TITLE', as_index=False)['VALUE'].mean()\n",
    "# df_playtime = df_playtime.rename(columns={'GAME_TITLE': 'Name', 'VALUE': 'Playtime'})"
   ]
  },
  {
   "cell_type": "markdown",
   "metadata": {},
   "source": [
    "# Avaliando Similaridade"
   ]
  },
  {
   "cell_type": "markdown",
   "metadata": {},
   "source": [
    "## KNN + Distância por cossenos"
   ]
  },
  {
   "cell_type": "code",
   "execution_count": 19,
   "metadata": {},
   "outputs": [],
   "source": [
    "from sklearn.neighbors import NearestNeighbors"
   ]
  },
  {
   "cell_type": "code",
   "execution_count": 20,
   "metadata": {},
   "outputs": [],
   "source": [
    "neigh = NearestNeighbors(n_neighbors=11, metric='cosine')\n",
    "neigh.fit(df_games.drop(['Name', 'NPS'], axis=1));"
   ]
  },
  {
   "cell_type": "code",
   "execution_count": 21,
   "metadata": {},
   "outputs": [],
   "source": [
    "# df_games[df_games['Name'].str.contains('Battlegr')]"
   ]
  },
  {
   "cell_type": "code",
   "execution_count": 29,
   "metadata": {},
   "outputs": [],
   "source": [
    "lista_jogos = ['Realm Royale', 'Paladins®', 'Overcooked', 'Among Us', 'Counter-Strike: Source', 'Hollow Knight', \"Baldur's Gate II: Enhanced Edition\"]\n",
    "jogo_avaliado = \"Paladins®\"\n",
    "\n",
    "jogo = df_games[df_games['Name'] == jogo_avaliado].drop(['Name', 'NPS'], axis=1)\n",
    "\n",
    "neighbors = neigh.kneighbors(jogo)\n",
    "similaridade = neighbors[0][0]\n",
    "index = neighbors[1][0]\n",
    "\n",
    "df_similaridade = pd.DataFrame({\n",
    "    'Name': df_games.iloc[index]['Name'],\n",
    "    'Similarity': 1 - similaridade\n",
    "})\n",
    "\n",
    "df_similaridade = df_similaridade[df_similaridade['Name'] != jogo_avaliado]"
   ]
  },
  {
   "cell_type": "code",
   "execution_count": 30,
   "metadata": {},
   "outputs": [
    {
     "data": {
      "text/html": [
       "<div>\n",
       "<style scoped>\n",
       "    .dataframe tbody tr th:only-of-type {\n",
       "        vertical-align: middle;\n",
       "    }\n",
       "\n",
       "    .dataframe tbody tr th {\n",
       "        vertical-align: top;\n",
       "    }\n",
       "\n",
       "    .dataframe thead th {\n",
       "        text-align: right;\n",
       "    }\n",
       "</style>\n",
       "<table border=\"1\" class=\"dataframe\">\n",
       "  <thead>\n",
       "    <tr style=\"text-align: right;\">\n",
       "      <th></th>\n",
       "      <th>Name</th>\n",
       "      <th>Similarity</th>\n",
       "      <th>NPS</th>\n",
       "    </tr>\n",
       "  </thead>\n",
       "  <tbody>\n",
       "    <tr>\n",
       "      <th>3</th>\n",
       "      <td>Block N Load</td>\n",
       "      <td>0.797724</td>\n",
       "      <td>0.566431</td>\n",
       "    </tr>\n",
       "    <tr>\n",
       "      <th>1</th>\n",
       "      <td>Black Squad</td>\n",
       "      <td>0.804030</td>\n",
       "      <td>0.527572</td>\n",
       "    </tr>\n",
       "    <tr>\n",
       "      <th>0</th>\n",
       "      <td>Gigantic</td>\n",
       "      <td>0.804030</td>\n",
       "      <td>0.520280</td>\n",
       "    </tr>\n",
       "    <tr>\n",
       "      <th>8</th>\n",
       "      <td>Retail Royale</td>\n",
       "      <td>0.762770</td>\n",
       "      <td>0.476804</td>\n",
       "    </tr>\n",
       "    <tr>\n",
       "      <th>6</th>\n",
       "      <td>Warface</td>\n",
       "      <td>0.797724</td>\n",
       "      <td>0.355173</td>\n",
       "    </tr>\n",
       "    <tr>\n",
       "      <th>2</th>\n",
       "      <td>Until Last Tomorrow</td>\n",
       "      <td>0.797724</td>\n",
       "      <td>0.333333</td>\n",
       "    </tr>\n",
       "    <tr>\n",
       "      <th>9</th>\n",
       "      <td>Dissolution</td>\n",
       "      <td>0.762770</td>\n",
       "      <td>0.145946</td>\n",
       "    </tr>\n",
       "    <tr>\n",
       "      <th>5</th>\n",
       "      <td>Z1 Battle Royale</td>\n",
       "      <td>0.797724</td>\n",
       "      <td>0.108814</td>\n",
       "    </tr>\n",
       "    <tr>\n",
       "      <th>4</th>\n",
       "      <td>Spacelords</td>\n",
       "      <td>0.797724</td>\n",
       "      <td>0.042675</td>\n",
       "    </tr>\n",
       "    <tr>\n",
       "      <th>7</th>\n",
       "      <td>Garlock Online</td>\n",
       "      <td>0.762770</td>\n",
       "      <td>-0.484375</td>\n",
       "    </tr>\n",
       "  </tbody>\n",
       "</table>\n",
       "</div>"
      ],
      "text/plain": [
       "                  Name  Similarity       NPS\n",
       "3         Block N Load    0.797724  0.566431\n",
       "1          Black Squad    0.804030  0.527572\n",
       "0             Gigantic    0.804030  0.520280\n",
       "8        Retail Royale    0.762770  0.476804\n",
       "6              Warface    0.797724  0.355173\n",
       "2  Until Last Tomorrow    0.797724  0.333333\n",
       "9          Dissolution    0.762770  0.145946\n",
       "5     Z1 Battle Royale    0.797724  0.108814\n",
       "4           Spacelords    0.797724  0.042675\n",
       "7       Garlock Online    0.762770 -0.484375"
      ]
     },
     "execution_count": 30,
     "metadata": {},
     "output_type": "execute_result"
    }
   ],
   "source": [
    "df_similaridade.merge(df_games[['Name', 'NPS']], on='Name').sort_values('NPS', ascending=False)"
   ]
  },
  {
   "cell_type": "code",
   "execution_count": 24,
   "metadata": {},
   "outputs": [],
   "source": [
    "# df_steam_games_raw[df_steam_games_raw['Name'] == \"Tom Clancy's Rainbow Six® Siege\"].Tags.unique()"
   ]
  }
 ],
 "metadata": {
  "kernelspec": {
   "display_name": "mackenzie",
   "language": "python",
   "name": "python3"
  },
  "language_info": {
   "codemirror_mode": {
    "name": "ipython",
    "version": 3
   },
   "file_extension": ".py",
   "mimetype": "text/x-python",
   "name": "python",
   "nbconvert_exporter": "python",
   "pygments_lexer": "ipython3",
   "version": "3.10.12"
  }
 },
 "nbformat": 4,
 "nbformat_minor": 2
}
