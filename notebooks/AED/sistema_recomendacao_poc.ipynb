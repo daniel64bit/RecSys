{
 "cells": [
  {
   "cell_type": "markdown",
   "metadata": {},
   "source": [
    "# 1. Ambiente"
   ]
  },
  {
   "cell_type": "code",
   "execution_count": 1,
   "metadata": {},
   "outputs": [],
   "source": [
    "import pandas as pd\n",
    "import numpy as np\n",
    "import seaborn as sns\n",
    "import matplotlib.pyplot as plt\n",
    "\n",
    "from warnings import simplefilter\n",
    "simplefilter(action=\"ignore\", category=pd.errors.PerformanceWarning)"
   ]
  },
  {
   "cell_type": "code",
   "execution_count": 2,
   "metadata": {},
   "outputs": [],
   "source": [
    "pd.options.display.max_columns = 200\n",
    "pd.options.display.max_rows = 100"
   ]
  },
  {
   "cell_type": "markdown",
   "metadata": {},
   "source": [
    "# 2. Dados"
   ]
  },
  {
   "cell_type": "code",
   "execution_count": 3,
   "metadata": {},
   "outputs": [],
   "source": [
    "# df_steam_user = pd.read_csv(\n",
    "#     '../../data/raw/steam-200k.csv',\n",
    "#     sep=',',\n",
    "#     header=None,\n",
    "#     names=['USER_ID', 'GAME_TITLE', 'BEHAVIOR_NAME', 'VALUE', '0']\n",
    "# )\n",
    "\n",
    "df_steam_games_raw = pd.read_csv(\n",
    "    '../../data/raw/games.csv',\n",
    "    usecols=['Name', 'Release date', 'Required age', 'Price', 'Windows', 'Genres', 'Tags', 'Positive', 'Negative']\n",
    ")"
   ]
  },
  {
   "cell_type": "code",
   "execution_count": 4,
   "metadata": {},
   "outputs": [
    {
     "data": {
      "text/plain": [
       "'Indie,Casual,Sports,Bowling'"
      ]
     },
     "execution_count": 4,
     "metadata": {},
     "output_type": "execute_result"
    }
   ],
   "source": [
    "df_steam_games_raw.Tags[0]"
   ]
  },
  {
   "cell_type": "markdown",
   "metadata": {},
   "source": [
    "# 3. Funções"
   ]
  },
  {
   "cell_type": "code",
   "execution_count": 5,
   "metadata": {},
   "outputs": [],
   "source": [
    "def cria_identificadores_genero(df:pd.DataFrame, col:str, sep:str = ',') -> pd.DataFrame:\n",
    "    \"\"\"\n",
    "    Função que cria identificadores de marcadores\n",
    "    para jogos a partir de colunas contendo strings separadas por um delimitador comum.\n",
    "    \"\"\"\n",
    "    df = df.copy()\n",
    "\n",
    "    generos = np.unique(\n",
    "        df[col]\n",
    "        .drop_duplicates()\n",
    "        .str.cat(sep=sep)\n",
    "        .split(sep)\n",
    "    )\n",
    "\n",
    "    for genero in generos:\n",
    "        df[f'{genero}'.upper().replace(' ','_')] = (\n",
    "            df[col].str.contains(genero, regex=True)\n",
    "        )\n",
    "\n",
    "    return df"
   ]
  },
  {
   "cell_type": "code",
   "execution_count": 6,
   "metadata": {},
   "outputs": [],
   "source": [
    "def remove_outlier(df:pd.DataFrame, col:str) -> pd.DataFrame:\n",
    "    \"\"\"\n",
    "    Função que remove outliers de um DataFrame baseado no método IQR\n",
    "    \"\"\"\n",
    "    df = df.copy()\n",
    "\n",
    "    q1 = df[col].quantile(0.25)\n",
    "    q3 = df[col].quantile(0.75)\n",
    "    iqr = q3 - q1\n",
    "\n",
    "    df = df[\n",
    "        (df[col] >= q1 - 1.5 * iqr)\n",
    "        & (df[col] <= q3 + 1.5 * iqr)\n",
    "    ].copy()\n",
    "\n",
    "    return df"
   ]
  },
  {
   "cell_type": "code",
   "execution_count": 7,
   "metadata": {},
   "outputs": [],
   "source": [
    "def preprocessa_steam_games(df_steam_games: pd.DataFrame) -> pd.DataFrame:\n",
    "    \"\"\"\n",
    "    Função que realiza o pré-processamento do dataset de jogos da Steam\n",
    "    \"\"\"\n",
    "\n",
    "    # Plataforma\n",
    "    df_steam_games = df_steam_games[df_steam_games['Windows'] == True].copy()\n",
    "    \n",
    "    # Novas Features\n",
    "    df_steam_games['PriceRange'] = pd.cut(df_steam_games['Price'].round(0), bins=20)\n",
    "    df_steam_games['Over18'] = df_steam_games['Required age'] >= 18\n",
    "    df_steam_games['Year'] = df_steam_games['Release date'].str[-4:].astype(int)\n",
    "    \n",
    "    # NPS\n",
    "    df_steam_games['Reviews'] = df_steam_games['Positive'] + df_steam_games['Negative']\n",
    "    df_steam_games['NPS'] = (\n",
    "        (df_steam_games['Positive'] / df_steam_games['Reviews'])\n",
    "        - (df_steam_games['Negative'] / df_steam_games['Reviews'])\n",
    "    ).fillna(0)\n",
    "\n",
    "    # Ajuste para jogos com poucas reviews\n",
    "    df_steam_games['NPS'] = np.where(\n",
    "        (df_steam_games['NPS'] == 1) | (df_steam_games['Reviews'] == 1000),\n",
    "        0,\n",
    "        df_steam_games['NPS']\n",
    "    )\n",
    "\n",
    "    # Dados duplicados\n",
    "    df_steam_games = (\n",
    "        df_steam_games\n",
    "        .sort_values('Reviews', ascending=False)\n",
    "        .drop_duplicates('Name', keep='first')\n",
    "    )\n",
    "\n",
    "    # Marcadores\n",
    "    df_steam_games['Tags'] = np.where(df_steam_games['Tags'].isna(), df_steam_games['Genres'], df_steam_games['Tags'])\n",
    "    df_steam_games = df_steam_games.dropna(subset=['Tags', 'Name'])\n",
    "    df_steam_games = cria_identificadores_genero(df_steam_games, 'Tags')\n",
    "\n",
    "    # Transforma booleano em numérico\n",
    "    bool_cols = df_steam_games.select_dtypes('bool').columns\n",
    "    df_steam_games[bool_cols] = df_steam_games[bool_cols].astype('int64')\n",
    "\n",
    "    df_steam_games = df_steam_games.drop(\n",
    "        ['Genres', 'Tags', 'Required age', 'Windows', 'Price', 'Reviews',\n",
    "         'Release date', 'Positive', 'Negative'], axis=1)\n",
    "    return df_steam_games"
   ]
  },
  {
   "cell_type": "markdown",
   "metadata": {},
   "source": [
    "# 4. Preprocessamento"
   ]
  },
  {
   "cell_type": "markdown",
   "metadata": {},
   "source": [
    "## 4.1. Steam Games"
   ]
  },
  {
   "cell_type": "code",
   "execution_count": 8,
   "metadata": {},
   "outputs": [
    {
     "name": "stderr",
     "output_type": "stream",
     "text": [
      "C:\\Users\\nielr\\AppData\\Local\\Temp\\ipykernel_21332\\3209349948.py:17: UserWarning: This pattern is interpreted as a regular expression, and has match groups. To actually get the groups, use str.extract.\n",
      "  df[col].str.contains(genero, regex=True)\n",
      "C:\\Users\\nielr\\AppData\\Local\\Temp\\ipykernel_21332\\3209349948.py:17: UserWarning: This pattern is interpreted as a regular expression, and has match groups. To actually get the groups, use str.extract.\n",
      "  df[col].str.contains(genero, regex=True)\n"
     ]
    }
   ],
   "source": [
    "df = preprocessa_steam_games(df_steam_games_raw)"
   ]
  },
  {
   "cell_type": "code",
   "execution_count": 9,
   "metadata": {},
   "outputs": [],
   "source": [
    "registros_categoria = df.drop(['Name', 'PriceRange', 'Over18', 'Year', 'NPS'], axis=1).sum()\n",
    "top_categorias = registros_categoria[registros_categoria > 6000].sort_values(ascending=False).index.to_list()"
   ]
  },
  {
   "cell_type": "code",
   "execution_count": 10,
   "metadata": {},
   "outputs": [
    {
     "data": {
      "text/plain": [
       "32"
      ]
     },
     "execution_count": 10,
     "metadata": {},
     "output_type": "execute_result"
    }
   ],
   "source": [
    "len(top_categorias)"
   ]
  },
  {
   "cell_type": "code",
   "execution_count": 11,
   "metadata": {},
   "outputs": [],
   "source": [
    "df_games = df[['Name', 'NPS'] + top_categorias].reset_index(drop=True)"
   ]
  },
  {
   "cell_type": "markdown",
   "metadata": {},
   "source": [
    "## 4.2. Steam Users\n",
    "\n",
    "- Tentativa de usar as horas jogadas para ordenar recomendações\n",
    "- A base de dados não possui todos os jogos necessários para tal"
   ]
  },
  {
   "cell_type": "code",
   "execution_count": 12,
   "metadata": {},
   "outputs": [],
   "source": [
    "# df_steam_user = df_steam_user[df_steam_user['BEHAVIOR_NAME'] == 'play']\n",
    "# df_steam_user = remove_outlier(df_steam_user, 'VALUE')\n",
    "\n",
    "# df_playtime = df_steam_user.groupby('GAME_TITLE', as_index=False)['VALUE'].mean()\n",
    "# df_playtime = df_playtime.rename(columns={'GAME_TITLE': 'Name', 'VALUE': 'Playtime'})"
   ]
  },
  {
   "cell_type": "markdown",
   "metadata": {},
   "source": [
    "# 5. Modelo de Recomendação"
   ]
  },
  {
   "cell_type": "markdown",
   "metadata": {},
   "source": [
    "## 5.1. KNN com distância por cossenos"
   ]
  },
  {
   "cell_type": "code",
   "execution_count": 13,
   "metadata": {},
   "outputs": [],
   "source": [
    "from sklearn.neighbors import NearestNeighbors"
   ]
  },
  {
   "cell_type": "code",
   "execution_count": 14,
   "metadata": {},
   "outputs": [],
   "source": [
    "neigh = NearestNeighbors(n_neighbors=6, metric='cosine')\n",
    "neigh.fit(df_games.drop(['Name', 'NPS'], axis=1));"
   ]
  },
  {
   "cell_type": "markdown",
   "metadata": {},
   "source": [
    "## 5.2. Resultados Preliminares - POC"
   ]
  },
  {
   "cell_type": "code",
   "execution_count": 15,
   "metadata": {},
   "outputs": [],
   "source": [
    "# df_games[df_games['Name'].str.contains('Battlegr')]"
   ]
  },
  {
   "cell_type": "code",
   "execution_count": 16,
   "metadata": {},
   "outputs": [],
   "source": [
    "lista_jogos = ['Realm Royale', 'Paladins®', 'Overcooked', 'Among Us', 'Counter-Strike: Source', 'Hollow Knight', \"Baldur's Gate II: Enhanced Edition\"]\n",
    "jogo_avaliado = \"Hollow Knight\"\n",
    "\n",
    "jogo = df_games[df_games['Name'] == jogo_avaliado].drop(['Name', 'NPS'], axis=1)\n",
    "\n",
    "neighbors = neigh.kneighbors(jogo)\n",
    "similaridade = neighbors[0][0]\n",
    "index = neighbors[1][0]\n",
    "\n",
    "df_similaridade = pd.DataFrame({\n",
    "    'Name': df_games.iloc[index]['Name'],\n",
    "    'Similarity': 1 - similaridade\n",
    "})\n",
    "\n",
    "df_similaridade = df_similaridade[df_similaridade['Name'] != jogo_avaliado]"
   ]
  },
  {
   "cell_type": "code",
   "execution_count": 17,
   "metadata": {},
   "outputs": [
    {
     "data": {
      "text/html": [
       "<div>\n",
       "<style scoped>\n",
       "    .dataframe tbody tr th:only-of-type {\n",
       "        vertical-align: middle;\n",
       "    }\n",
       "\n",
       "    .dataframe tbody tr th {\n",
       "        vertical-align: top;\n",
       "    }\n",
       "\n",
       "    .dataframe thead th {\n",
       "        text-align: right;\n",
       "    }\n",
       "</style>\n",
       "<table border=\"1\" class=\"dataframe\">\n",
       "  <thead>\n",
       "    <tr style=\"text-align: right;\">\n",
       "      <th></th>\n",
       "      <th>Name</th>\n",
       "      <th>Similarity</th>\n",
       "      <th>NPS</th>\n",
       "    </tr>\n",
       "  </thead>\n",
       "  <tbody>\n",
       "    <tr>\n",
       "      <th>4</th>\n",
       "      <td>Ori and the Will of the Wisps</td>\n",
       "      <td>0.916667</td>\n",
       "      <td>0.929534</td>\n",
       "    </tr>\n",
       "    <tr>\n",
       "      <th>2</th>\n",
       "      <td>NO Logic</td>\n",
       "      <td>0.925820</td>\n",
       "      <td>0.904762</td>\n",
       "    </tr>\n",
       "    <tr>\n",
       "      <th>3</th>\n",
       "      <td>WarriOrb: Prologue</td>\n",
       "      <td>0.925820</td>\n",
       "      <td>0.774278</td>\n",
       "    </tr>\n",
       "    <tr>\n",
       "      <th>0</th>\n",
       "      <td>Unbound: Worlds Apart</td>\n",
       "      <td>1.000000</td>\n",
       "      <td>0.772512</td>\n",
       "    </tr>\n",
       "    <tr>\n",
       "      <th>1</th>\n",
       "      <td>WarriOrb</td>\n",
       "      <td>0.960769</td>\n",
       "      <td>0.648649</td>\n",
       "    </tr>\n",
       "  </tbody>\n",
       "</table>\n",
       "</div>"
      ],
      "text/plain": [
       "                            Name  Similarity       NPS\n",
       "4  Ori and the Will of the Wisps    0.916667  0.929534\n",
       "2                       NO Logic    0.925820  0.904762\n",
       "3             WarriOrb: Prologue    0.925820  0.774278\n",
       "0          Unbound: Worlds Apart    1.000000  0.772512\n",
       "1                       WarriOrb    0.960769  0.648649"
      ]
     },
     "execution_count": 17,
     "metadata": {},
     "output_type": "execute_result"
    }
   ],
   "source": [
    "df_similaridade.merge(df_games[['Name', 'NPS']], on='Name').sort_values('NPS', ascending=False)"
   ]
  },
  {
   "cell_type": "code",
   "execution_count": 18,
   "metadata": {},
   "outputs": [],
   "source": [
    "# df_steam_games_raw[df_steam_games_raw['Name'] == \"Tom Clancy's Rainbow Six® Siege\"].Tags.unique()"
   ]
  },
  {
   "cell_type": "markdown",
   "metadata": {},
   "source": [
    "  ## 5.3. Desempenho do modelo"
   ]
  },
  {
   "cell_type": "code",
   "execution_count": 19,
   "metadata": {},
   "outputs": [],
   "source": [
    "knn_results = neigh.kneighbors(df_games.drop(['Name', 'NPS'], axis=1))"
   ]
  },
  {
   "cell_type": "code",
   "execution_count": 20,
   "metadata": {},
   "outputs": [],
   "source": [
    "# Separando resultados\n",
    "similaridade = 1 - knn_results[0]\n",
    "semelhantes = knn_results[1]"
   ]
  },
  {
   "cell_type": "code",
   "execution_count": 51,
   "metadata": {},
   "outputs": [],
   "source": [
    "# Transformando resultados em DataFrame e removendo coluna de id do próprio jogo\n",
    "df_semelhantes = pd.DataFrame(semelhantes, columns=[f'id_semelhante_{i}' for i in range(6)]).drop('id_semelhante_0', axis=1)\n",
    "df_semelhantes = df_semelhantes.join(df_games[['Name']])\n",
    "\n",
    "# Concatenando recomendações\n",
    "df_recomendacoes = pd.DataFrame()\n",
    "for i in range(1,6):\n",
    "    _df_semelhantes = df_semelhantes[['Name', f'id_semelhante_{i}']].merge(df_games.drop(['Name', 'NPS'], axis=1), left_on=f'id_semelhante_{i}', right_index=True, how='left')\n",
    "    _df_semelhantes = _df_semelhantes.drop([f'id_semelhante_{i}'], axis=1)\n",
    "\n",
    "    df_recomendacoes = pd.concat([df_recomendacoes, _df_semelhantes])\n",
    "\n",
    "df_recomendacoes = df_recomendacoes.merge(df_games, on='Name', how='left', suffixes=('_recom', ''))"
   ]
  },
  {
   "cell_type": "code",
   "execution_count": 58,
   "metadata": {},
   "outputs": [],
   "source": [
    "# Calculando métricas para recomendações (seguindo a lógica de um problema de classificação binária)\n",
    "cols = [c for c in df_games.columns if c not in ['Name', 'NPS']]\n",
    "\n",
    "tp_cols = []\n",
    "tn_cols = []\n",
    "fp_cols = []\n",
    "fn_cols = []\n",
    "for col in cols:\n",
    "    tp_col = f'tp_{col}'\n",
    "    tn_col = f'tn_{col}'\n",
    "    fp_col = f'fp_{col}'\n",
    "    fn_col = f'fn_{col}'\n",
    "\n",
    "    tp_cols.append(tp_col)\n",
    "    tn_cols.append(tn_col)\n",
    "    fp_cols.append(fp_col)\n",
    "    fn_cols.append(fn_col)\n",
    "\n",
    "    df_recomendacoes[tp_col] = (df_recomendacoes[col] == 1) & (df_recomendacoes[f'{col}_recom'] == 1)\n",
    "    df_recomendacoes[tn_col] = (df_recomendacoes[col] == 0) & (df_recomendacoes[f'{col}_recom'] == 0)\n",
    "    df_recomendacoes[fp_col] = (df_recomendacoes[col] == 0) & (df_recomendacoes[f'{col}_recom'] == 1)\n",
    "    df_recomendacoes[fn_col] = (df_recomendacoes[col] == 1) & (df_recomendacoes[f'{col}_recom'] == 0)\n",
    "\n",
    "df_recomendacoes['TP'] = df_recomendacoes[tp_cols].sum(axis=1)\n",
    "df_recomendacoes['TN'] = df_recomendacoes[tn_cols].sum(axis=1)\n",
    "df_recomendacoes['FP'] = df_recomendacoes[fp_cols].sum(axis=1)\n",
    "df_recomendacoes['FN'] = df_recomendacoes[fn_cols].sum(axis=1)"
   ]
  },
  {
   "cell_type": "code",
   "execution_count": 59,
   "metadata": {},
   "outputs": [],
   "source": [
    "df_recomendacoes = df_recomendacoes.groupby('Name', as_index=False)[['TP', 'TN', 'FP', 'FN']].sum()\n",
    "\n",
    "df_recomendacoes['Precision'] = df_recomendacoes['TP'] / (df_recomendacoes['TP'] + df_recomendacoes['FP'])\n",
    "df_recomendacoes['Recall'] = df_recomendacoes['TP'] / (df_recomendacoes['TP'] + df_recomendacoes['FN'])\n",
    "df_recomendacoes['F1'] = 2 * (\n",
    "    df_recomendacoes['Precision'] * df_recomendacoes['Recall']) / (df_recomendacoes['Precision'] + df_recomendacoes['Recall']\n",
    ")"
   ]
  },
  {
   "cell_type": "code",
   "execution_count": 64,
   "metadata": {},
   "outputs": [
    {
     "name": "stdout",
     "output_type": "stream",
     "text": [
      "Precision: 92.85%\n",
      "Recall: 94.78%\n",
      "F1: 94.22%\n"
     ]
    }
   ],
   "source": [
    "print(f'Precision: {df_recomendacoes[\"Precision\"].mean():.2%}\\nRecall: {df_recomendacoes[\"Recall\"].mean():.2%}\\nF1: {df_recomendacoes[\"F1\"].mean():.2%}')"
   ]
  }
 ],
 "metadata": {
  "kernelspec": {
   "display_name": "mackenzie",
   "language": "python",
   "name": "python3"
  },
  "language_info": {
   "codemirror_mode": {
    "name": "ipython",
    "version": 3
   },
   "file_extension": ".py",
   "mimetype": "text/x-python",
   "name": "python",
   "nbconvert_exporter": "python",
   "pygments_lexer": "ipython3",
   "version": "3.10.12"
  }
 },
 "nbformat": 4,
 "nbformat_minor": 2
}
