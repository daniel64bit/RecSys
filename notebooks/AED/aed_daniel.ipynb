{
 "cells": [
  {
   "cell_type": "code",
   "execution_count": 1,
   "metadata": {},
   "outputs": [],
   "source": [
    "import pandas as pd"
   ]
  },
  {
   "cell_type": "code",
   "execution_count": 41,
   "metadata": {},
   "outputs": [],
   "source": [
    "df_steam = pd.read_csv(\n",
    "    '../../data/raw/steam_video_games.csv',\n",
    "    sep=',',\n",
    "    header=None,\n",
    "    names=['USER_ID', 'GAME_TITLE', 'BEHAVIOR_NAME', 'VALUE', '0']\n",
    ")\n",
    "\n",
    "df_steam_games = pd.read_csv(\n",
    "    '../../data/raw/steam_games_dataset.csv',\n",
    "    usecols=['Name', 'Required age', 'Price', 'Windows', 'Mac', 'Linux', 'Achievements', 'Developers', 'Categories', 'Genres']\n",
    ")"
   ]
  },
  {
   "cell_type": "code",
   "execution_count": 32,
   "metadata": {},
   "outputs": [],
   "source": [
    "pd.options.display.max_columns = 200"
   ]
  },
  {
   "cell_type": "code",
   "execution_count": 53,
   "metadata": {},
   "outputs": [
    {
     "data": {
      "text/plain": [
       "0        Single-player,Multi-player,Steam Achievements,...\n",
       "1        Single-player,Steam Achievements,Full controll...\n",
       "2                                            Single-player\n",
       "3                    Single-player,Full controller support\n",
       "4                         Single-player,Steam Achievements\n",
       "                               ...                        \n",
       "84517    Single-player,Multi-player,Co-op,Shared/Split ...\n",
       "84569    Multi-player,PvP,Shared/Split Screen PvP,Share...\n",
       "84676    Single-player,Multi-player,MMO,PvP,Online PvP,...\n",
       "84699    Single-player,Multi-player,PvP,Online PvP,LAN ...\n",
       "84790    Multi-player,PvP,Online PvP,LAN PvP,Cross-Plat...\n",
       "Name: Categories, Length: 5649, dtype: object"
      ]
     },
     "execution_count": 53,
     "metadata": {},
     "output_type": "execute_result"
    }
   ],
   "source": [
    "categorias = df_steam_games['Categories'].drop_duplicates()\n",
    "categorias"
   ]
  }
 ],
 "metadata": {
  "kernelspec": {
   "display_name": "mackenzie",
   "language": "python",
   "name": "python3"
  },
  "language_info": {
   "codemirror_mode": {
    "name": "ipython",
    "version": 3
   },
   "file_extension": ".py",
   "mimetype": "text/x-python",
   "name": "python",
   "nbconvert_exporter": "python",
   "pygments_lexer": "ipython3",
   "version": "3.12.1"
  }
 },
 "nbformat": 4,
 "nbformat_minor": 2
}
